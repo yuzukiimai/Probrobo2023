{
 "cells": [
  {
   "cell_type": "markdown",
   "id": "7a6cdf74",
   "metadata": {},
   "source": [
    "# 確率ロボティクス 2023 課題 &emsp;&emsp;20C1015 今井悠月<br>"
   ]
  },
  {
   "cell_type": "markdown",
   "id": "7fda6eec",
   "metadata": {},
   "source": [
    "## 取り組んだ内容：単純なグリッドワールドを用いて，Q学習により最適な方策の獲得を目指す<br>"
   ]
  },
  {
   "cell_type": "markdown",
   "id": "c029fca4",
   "metadata": {},
   "source": [
    "### Q学習とは\n",
    "#### ロボットが行動をとった後に得られる情報から, 行動価値関数を更新していくアルゴリズム\n",
    " \n",
    "#### 具体的には，ロボットが状態 s から行動 a をし，状態 s’ になった直後の行動価値関数を以下のような式で更新する\n",
    "\n",
    "\\begin{equation}\n",
    "   Q(s,a) \\leftarrow (1-\\alpha)Q(s,a) + \\alpha[r + max_{a'}Q(s',a')]\n",
    " \\end{equation}"
   ]
  },
  {
   "cell_type": "markdown",
   "id": "716284a7",
   "metadata": {},
   "source": [
    "### $\\epsilon$_greedy方策\n",
    "\n",
    "#### 確率的な方策を用いる\n",
    "\n",
    "#### Q値が行動が意図しない行動をしたときに，価値が与えられ局所解に陥ることがある\n",
    "\n",
    "#### これを防ぐために，確率$\\epsilon$で行動をランダムにする\n",
    "\n",
    "#### これにより，最適な方策が得られる可能性が上がる<br>"
   ]
  },
  {
   "cell_type": "markdown",
   "id": "63e537cf",
   "metadata": {},
   "source": [
    "### 手順\n",
    "\n",
    " #### 1) Qtable，状態，行動，報酬などを初期化\n",
    " \n",
    " #### 2) $\\epsilon$_greedy方策をもとに行動し，行動価値関数を更新  \n",
    " #### →　終了条件（指定のepisode）まで繰り返す<br>"
   ]
  },
  {
   "cell_type": "markdown",
   "id": "619049d2",
   "metadata": {},
   "source": [
    "### 参考にした本および昨年以前の提出者のコード\n",
    "\n",
    "\n",
    "書籍「詳解 確率ロボティクス Pythonによる基礎アルゴリズムの実装」，著者：上田隆一 (KS理工学専門書) (日本語) 単行本（ソフトカバー）(2019/10/27)\n",
    "\n",
    "YusukeKiyooka jupyter-notebook リポジトリ https://github.com/YusukeKiyooka/jupyter-notebook　\n",
    "コードは流用していませんが，アイデアは参考しました<br>"
   ]
  },
  {
   "cell_type": "markdown",
   "id": "918bda9b",
   "metadata": {},
   "source": [
    "## 実装\n",
    "\n",
    "### 必要な関数のインポート"
   ]
  },
  {
   "cell_type": "code",
   "execution_count": 1,
   "id": "1edbb0c7",
   "metadata": {},
   "outputs": [],
   "source": [
    "import numpy as np  # NumPyライブラリをインポート\n",
    "import matplotlib.pyplot as plt  # Matplotlibライブラリをインポート\n",
    "from IPython.display import clear_output  # Jupyter notebookの出力をクリアするための関数をインポート\n",
    "from time import sleep  # sleep関数をインポート"
   ]
  },
  {
   "cell_type": "markdown",
   "id": "c2e7bf71",
   "metadata": {},
   "source": [
    "### グリッドワールドおよび状態の定義"
   ]
  },
  {
   "cell_type": "code",
   "execution_count": 2,
   "id": "83b24272",
   "metadata": {},
   "outputs": [],
   "source": [
    "class GridWorld:\n",
    "    def __init__(self, size=5):\n",
    "        self.size = size  # グリッドのサイズを設定\n",
    "        self.state_space = [(i, j) for i in range(size) for j in range(size)]  # 状態空間を生成\n",
    "        self.action_space = {'U': [-1, 0], 'D': [1, 0], 'L': [0, -1], 'R': [0, 1]}  # 行動空間を定義\n",
    "        self.robot_position = [0, 0]  # ロボットの初期位置を設定\n",
    "\n",
    "    def step(self, action):\n",
    "        # 行動を適用してロボットの位置を更新\n",
    "        self.robot_position = np.array(self.robot_position) + np.array(self.action_space[action])\n",
    "        # ロボットの位置がグリッドの外に出ないように調整\n",
    "        self.robot_position = np.clip(self.robot_position, 0, self.size-1)\n",
    "        return list(self.robot_position)\n",
    "\n",
    "    def render(self):\n",
    "        # グリッドを描画\n",
    "        grid = np.zeros((self.size, self.size))\n",
    "        grid[tuple(self.robot_position)] = 1  # ロボットの位置を描画\n",
    "        grid[self.size-1, self.size-1] = 0.5  # 目的地を描画\n",
    "        clear_output(wait=True)\n",
    "        plt.imshow(grid, cmap='viridis')\n",
    "        plt.show()\n",
    "        sleep(0.1)"
   ]
  },
  {
   "cell_type": "markdown",
   "id": "ee9f73a2",
   "metadata": {},
   "source": [
    "### 各種パラメータ，状態遷移，方策などの定義"
   ]
  },
  {
   "cell_type": "code",
   "execution_count": 3,
   "id": "9409b571",
   "metadata": {},
   "outputs": [],
   "source": [
    "class QLearning:\n",
    "    def __init__(self, env, alpha=0.5, gamma=0.9, epsilon=0.1, episodes=100):\n",
    "        self.env = env  # 環境を設定\n",
    "        self.alpha = alpha  # 学習率を設定\n",
    "        self.gamma = gamma  # 割引率を設定\n",
    "        self.epsilon = epsilon  # 探索率を設定\n",
    "        self.episodes = episodes  # エピソード数を設定\n",
    "        # Qテーブルを初期化（すべての状態と行動の組み合わせに対して0を設定）\n",
    "        self.q_table = dict(((i, j), [0, 0, 0, 0]) for i, j in self.env.state_space)\n",
    "        self.action_list = list(self.env.action_space.keys())  # 行動リストを作成\n",
    "        self.history = []  # 各エピソードの結果を保存するためのリストを初期化\n",
    "\n",
    "    def choose_action(self, state):\n",
    "        # ε-greedy方策に基づいて行動を選択\n",
    "        if np.random.uniform(0, 1) < self.epsilon:\n",
    "            action = np.random.choice(self.action_list)  # ランダムに行動を選択\n",
    "        else:\n",
    "            action = self.action_list[np.argmax(self.q_table[state])]  # Q値が最大の行動を選択\n",
    "        return action\n",
    "\n",
    "    def learn(self):\n",
    "        # Q学習のメインループ\n",
    "        for episode in range(self.episodes):\n",
    "            state = self.env.robot_position  # 現在の状態を取得\n",
    "            steps = 0  # ステップ数を初期化\n",
    "            while state != [self.env.size-1, self.env.size-1]:  # 目的地に到達するまでループ\n",
    "                action = self.choose_action(tuple(state))  # 行動を選択\n",
    "                next_state = self.env.step(action)  # 行動を適用して次の状態を取得\n",
    "                reward = -1 if state != [self.env.size-1, self.env.size-1] else 0  # 報酬を設定\n",
    "                old_value = self.q_table[tuple(state)][self.action_list.index(action)]  # 現在のQ値を取得\n",
    "                next_max = np.max(self.q_table[tuple(next_state)])  # 次の状態での最大Q値を取得\n",
    "\n",
    "                # Q値を更新\n",
    "                new_value = (1 - self.alpha) * old_value + self.alpha * (reward + self.gamma * next_max)\n",
    "                self.q_table[tuple(state)][self.action_list.index(action)] = new_value\n",
    "\n",
    "                state = next_state  # 状態を更新\n",
    "                self.env.render()  # 環境を描画\n",
    "                steps += 1  # ステップ数をインクリメント\n",
    "\n",
    "            self.env.robot_position = [0, 0]  # ロボットの位置を初期化\n",
    "            self.history.append(steps)  # ステップ数を履歴に保存\n",
    "\n",
    "    def plot_learning_curve(self):  # 学習曲線をプロットするためのメソッドを追加\n",
    "        plt.plot(self.history)\n",
    "        plt.title('Learning curve')\n",
    "        plt.xlabel('Episode')\n",
    "        plt.ylabel('Steps')\n",
    "        plt.show()"
   ]
  },
  {
   "cell_type": "markdown",
   "id": "1ef3b306",
   "metadata": {},
   "source": [
    "### 実行"
   ]
  },
  {
   "cell_type": "code",
   "execution_count": 4,
   "id": "5f2224e6",
   "metadata": {
    "scrolled": false
   },
   "outputs": [
    {
     "data": {
      "image/png": "[encoded data removed]",
      "text/plain": [
       "<Figure size 640x480 with 1 Axes>"
      ]
     },
     "metadata": {},
     "output_type": "display_data"
    },
    {
     "data": {
      "image/png": "[encoded data removed]",
      "text/plain": [
       "<Figure size 640x480 with 1 Axes>"
      ]
     },
     "metadata": {},
     "output_type": "display_data"
    },
    {
     "name": "stdout",
     "output_type": "stream",
     "text": [
      "[99, 94, 20, 53, 45, 66, 13, 22, 37, 21, 20, 29, 20, 19, 22, 21, 10, 24, 27, 18, 14, 14, 22, 26, 22, 15, 20, 9, 10, 9, 16, 9, 8, 10, 15, 9, 9, 14, 12, 13, 11, 10, 11, 15, 12, 17, 13, 13, 8, 9, 8, 11, 9, 10, 10, 11, 10, 10, 9, 13, 9, 8, 8, 8, 9, 8, 10, 9, 9, 11, 9, 8, 11, 8, 8, 9, 13, 8, 9, 8, 8, 8, 9, 8, 8, 9, 8, 8, 8, 8, 12, 8, 11, 8, 10, 13, 10, 8, 10, 8]\n"
     ]
    }
   ],
   "source": [
    "env = GridWorld()  # 環境を作成\n",
    "agent = QLearning(env)  # エージェントを作成\n",
    "agent.learn()  # 学習を開始\n",
    "agent.plot_learning_curve()  # 学習曲線をプロット\n",
    "print(agent.history)  # エージェントが各エピソードで必要としたステップ数を表示"
   ]
  },
  {
   "cell_type": "markdown",
   "id": "48ef2453",
   "metadata": {},
   "source": [
    "### 実行時の様子（10 episode時）\n",
    "\n",
    "### 動画のリンク　https://youtu.be/RNl6aDIfT48"
   ]
  }
 ],
 "metadata": {
  "kernelspec": {
   "display_name": "Python 3 (ipykernel)",
   "language": "python",
   "name": "python3"
  },
  "language_info": {
   "codemirror_mode": {
    "name": "ipython",
    "version": 3
   },
   "file_extension": ".py",
   "mimetype": "text/x-python",
   "name": "python",
   "nbconvert_exporter": "python",
   "pygments_lexer": "ipython3",
   "version": "3.8.10"
  }
 },
 "nbformat": 4,
 "nbformat_minor": 5
}
